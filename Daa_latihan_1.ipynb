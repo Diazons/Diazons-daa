{
  "nbformat": 4,
  "nbformat_minor": 0,
  "metadata": {
    "colab": {
      "provenance": [],
      "collapsed_sections": []
    },
    "kernelspec": {
      "name": "python3",
      "display_name": "Python 3"
    },
    "language_info": {
      "name": "python"
    }
  },
  "cells": [
    {
      "cell_type": "code",
      "execution_count": 19,
      "metadata": {
        "id": "M6c-i9m3qrsB"
      },
      "outputs": [],
      "source": [
        "#Latihan nomor 1\n",
        "import numpy as np"
      ]
    },
    {
      "cell_type": "code",
      "source": [
        "print('hello, world!')"
      ],
      "metadata": {
        "colab": {
          "base_uri": "https://localhost:8080/"
        },
        "id": "Glk-SZQ6rV3a",
        "outputId": "57ef00e0-9419-4fc9-bebb-651cda262b45"
      },
      "execution_count": 20,
      "outputs": [
        {
          "output_type": "stream",
          "name": "stdout",
          "text": [
            "hello, world!\n"
          ]
        }
      ]
    },
    {
      "cell_type": "code",
      "source": [
        "print('Nama saya (Diaz Nur Muhammad Assayyid)')"
      ],
      "metadata": {
        "colab": {
          "base_uri": "https://localhost:8080/"
        },
        "id": "TE-Lp2y9rbYu",
        "outputId": "12821219-830f-437e-de0d-2f8c1c41720f"
      },
      "execution_count": 4,
      "outputs": [
        {
          "output_type": "stream",
          "name": "stdout",
          "text": [
            "Nama saya (Diaz Nur Muhammad Assayyid)\n"
          ]
        }
      ]
    },
    {
      "cell_type": "code",
      "source": [
        "print('NIM saya (2021071003)')"
      ],
      "metadata": {
        "colab": {
          "base_uri": "https://localhost:8080/"
        },
        "id": "Mz1ZzOIvrkSd",
        "outputId": "0f14d434-5ef9-44a0-82fc-0929dad108c5"
      },
      "execution_count": 5,
      "outputs": [
        {
          "output_type": "stream",
          "name": "stdout",
          "text": [
            "NIM saya (2021071003)\n"
          ]
        }
      ]
    }
  ]
}