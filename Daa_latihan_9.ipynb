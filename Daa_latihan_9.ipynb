{
  "nbformat": 4,
  "nbformat_minor": 0,
  "metadata": {
    "colab": {
      "provenance": [],
      "collapsed_sections": []
    },
    "kernelspec": {
      "name": "python3",
      "display_name": "Python 3"
    },
    "language_info": {
      "name": "python"
    }
  },
  "cells": [
    {
      "cell_type": "code",
      "execution_count": 11,
      "metadata": {
        "id": "wQVeS1922UW8"
      },
      "outputs": [],
      "source": [
        "#buatlah suatu fungsi untuk membagi 2 himpunan angka, jika getSum untuk menjumlahkan angka!\n",
        "def getBagi(myList):\n",
        "  sum = 51\n",
        "  for row in myList:\n",
        "    for item in row:\n",
        "      sum /= item\n",
        "  return sum\n",
        "\n"
      ]
    },
    {
      "cell_type": "code",
      "source": [
        "getBagi([[3],[9]])"
      ],
      "metadata": {
        "colab": {
          "base_uri": "https://localhost:8080/"
        },
        "id": "rIe3Tmdn3qxC",
        "outputId": "523f36c7-a2ea-4bd9-bb06-bb5bdc9600f7"
      },
      "execution_count": 12,
      "outputs": [
        {
          "output_type": "execute_result",
          "data": {
            "text/plain": [
              "1.8888888888888888"
            ]
          },
          "metadata": {},
          "execution_count": 12
        }
      ]
    }
  ]
}