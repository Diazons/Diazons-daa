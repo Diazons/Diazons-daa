{
  "nbformat": 4,
  "nbformat_minor": 0,
  "metadata": {
    "colab": {
      "provenance": [],
      "collapsed_sections": []
    },
    "kernelspec": {
      "name": "python3",
      "display_name": "Python 3"
    },
    "language_info": {
      "name": "python"
    }
  },
  "cells": [
    {
      "cell_type": "code",
      "execution_count": 1,
      "metadata": {
        "id": "0_aLmbtl4Pbg"
      },
      "outputs": [],
      "source": [
        "#buatlah suatu fungsi untuk mengurangi 2 himpunan angka, jika getSum untuk menjumlahkan angka\n",
        "def getKurang(myList):\n",
        "  sum = 70\n",
        "  for row in myList:\n",
        "    for item in row:\n",
        "      sum -= item\n",
        "  return sum"
      ]
    },
    {
      "cell_type": "code",
      "source": [
        "getKurang([[30,8],[5,3]])"
      ],
      "metadata": {
        "colab": {
          "base_uri": "https://localhost:8080/"
        },
        "id": "X2qQAfOT4c3v",
        "outputId": "6a7ddca9-32cb-49b6-94f3-b9460fef0ff6"
      },
      "execution_count": 2,
      "outputs": [
        {
          "output_type": "execute_result",
          "data": {
            "text/plain": [
              "24"
            ]
          },
          "metadata": {},
          "execution_count": 2
        }
      ]
    }
  ]
}