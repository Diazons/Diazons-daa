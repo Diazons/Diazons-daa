{
  "nbformat": 4,
  "nbformat_minor": 0,
  "metadata": {
    "colab": {
      "provenance": []
    },
    "kernelspec": {
      "name": "python3",
      "display_name": "Python 3"
    },
    "language_info": {
      "name": "python"
    }
  },
  "cells": [
    {
      "cell_type": "code",
      "source": [
        "#soal nomor 2"
      ],
      "metadata": {
        "id": "u9r8kYlSzfs8"
      },
      "execution_count": 3,
      "outputs": []
    },
    {
      "cell_type": "code",
      "execution_count": 2,
      "metadata": {
        "colab": {
          "base_uri": "https://localhost:8080/"
        },
        "id": "CgtZK1Hqwe6m",
        "outputId": "42f1f321-f2bb-4104-b952-197d636957e0"
      },
      "outputs": [
        {
          "output_type": "stream",
          "name": "stdout",
          "text": [
            "Five is greather than two!\n"
          ]
        }
      ],
      "source": [
        "if 5 > 2:\n",
        "  print('Five is greather than two!')"
      ]
    }
  ]
}