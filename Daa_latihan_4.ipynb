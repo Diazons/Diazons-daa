{
  "nbformat": 4,
  "nbformat_minor": 0,
  "metadata": {
    "colab": {
      "provenance": [],
      "collapsed_sections": []
    },
    "kernelspec": {
      "name": "python3",
      "display_name": "Python 3"
    },
    "language_info": {
      "name": "python"
    }
  },
  "cells": [
    {
      "cell_type": "code",
      "execution_count": 2,
      "metadata": {
        "colab": {
          "base_uri": "https://localhost:8080/"
        },
        "id": "8_CZ_Ki5xRCk",
        "outputId": "a416110c-732a-4ee1-9b85-a6ffc501a1b6"
      },
      "outputs": [
        {
          "output_type": "stream",
          "name": "stdout",
          "text": [
            "sally\n"
          ]
        }
      ],
      "source": [
        "#soal nomor 4\n",
        "x = 4\n",
        "x = \"sally\"\n",
        "print(x)"
      ]
    }
  ]
}